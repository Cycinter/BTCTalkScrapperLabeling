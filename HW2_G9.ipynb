{
  "cells": [
    {
      "cell_type": "markdown",
      "metadata": {},
      "source": [
        "# 1. Clone the repository and install libs"
      ]
    },
    {
      "cell_type": "code",
      "execution_count": 1,
      "metadata": {},
      "outputs": [
        {
          "name": "stdout",
          "output_type": "stream",
          "text": [
            "E:\\OneDrive\\1Project\\DTI6287\\hw2\\BTCTalkScrapperLabeling\n"
          ]
        },
        {
          "name": "stderr",
          "output_type": "stream",
          "text": [
            "Cloning into 'BTCTalkScrapperLabeling'...\n",
            "C:\\Users\\cycin\\AppData\\Roaming\\Python\\Python312\\site-packages\\IPython\\core\\magics\\osm.py:417: UserWarning: This is now an optional IPython functionality, setting dhist requires you to install the `pickleshare` library.\n",
            "  self.shell.db['dhist'] = compress_dhist(dhist)[-100:]\n"
          ]
        }
      ],
      "source": [
        "import os\n",
        "\n",
        "target_path = \"E:/OneDrive/1Project/DTI6287/hw2\" #change to your own directory\n",
        "os.chdir(target_path)\n",
        "\n",
        "!git clone https://github.com/Cycinter/BTCTalkScrapperLabeling\n",
        "%cd BTCTalkScrapperLabeling"
      ]
    },
    {
      "cell_type": "code",
      "execution_count": 2,
      "metadata": {
        "colab": {
          "base_uri": "https://localhost:8080/"
        },
        "id": "YsHEl5fhomlZ",
        "outputId": "b247fffb-f1fa-40bd-9309-411af8d98b19"
      },
      "outputs": [
        {
          "name": "stdout",
          "output_type": "stream",
          "text": [
            "Defaulting to user installation because normal site-packages is not writeable\n",
            "Requirement already satisfied: selenium>=4.27.1 in c:\\users\\cycin\\appdata\\roaming\\python\\python312\\site-packages (from -r requirements.txt (line 1)) (4.32.0)\n",
            "Requirement already satisfied: webdriver-manager in c:\\users\\cycin\\appdata\\roaming\\python\\python312\\site-packages (from -r requirements.txt (line 2)) (4.0.2)\n",
            "Requirement already satisfied: openai>=1.0.0 in c:\\users\\cycin\\appdata\\roaming\\python\\python312\\site-packages (from -r requirements.txt (line 3)) (1.79.0)\n",
            "Requirement already satisfied: pyyaml in c:\\users\\cycin\\appdata\\roaming\\python\\python312\\site-packages (from -r requirements.txt (line 4)) (6.0.2)\n",
            "Requirement already satisfied: pandas in c:\\python312\\lib\\site-packages (from -r requirements.txt (line 5)) (2.2.3)\n",
            "Requirement already satisfied: base58 in c:\\users\\cycin\\appdata\\roaming\\python\\python312\\site-packages (from -r requirements.txt (line 6)) (2.1.1)\n",
            "Requirement already satisfied: bech32 in c:\\users\\cycin\\appdata\\roaming\\python\\python312\\site-packages (from -r requirements.txt (line 7)) (1.2.0)\n",
            "Requirement already satisfied: urllib3<3,>=1.26 in c:\\users\\cycin\\appdata\\roaming\\python\\python312\\site-packages (from urllib3[socks]<3,>=1.26->selenium>=4.27.1->-r requirements.txt (line 1)) (2.4.0)\n",
            "Requirement already satisfied: trio~=0.17 in c:\\users\\cycin\\appdata\\roaming\\python\\python312\\site-packages (from selenium>=4.27.1->-r requirements.txt (line 1)) (0.30.0)\n",
            "Requirement already satisfied: trio-websocket~=0.9 in c:\\users\\cycin\\appdata\\roaming\\python\\python312\\site-packages (from selenium>=4.27.1->-r requirements.txt (line 1)) (0.12.2)\n",
            "Requirement already satisfied: certifi>=2021.10.8 in c:\\users\\cycin\\appdata\\roaming\\python\\python312\\site-packages (from selenium>=4.27.1->-r requirements.txt (line 1)) (2025.1.31)\n",
            "Requirement already satisfied: typing_extensions~=4.9 in c:\\users\\cycin\\appdata\\roaming\\python\\python312\\site-packages (from selenium>=4.27.1->-r requirements.txt (line 1)) (4.13.2)\n",
            "Requirement already satisfied: websocket-client~=1.8 in c:\\users\\cycin\\appdata\\roaming\\python\\python312\\site-packages (from selenium>=4.27.1->-r requirements.txt (line 1)) (1.8.0)\n",
            "Requirement already satisfied: requests in c:\\users\\cycin\\appdata\\roaming\\python\\python312\\site-packages (from webdriver-manager->-r requirements.txt (line 2)) (2.32.3)\n",
            "Requirement already satisfied: python-dotenv in c:\\users\\cycin\\appdata\\roaming\\python\\python312\\site-packages (from webdriver-manager->-r requirements.txt (line 2)) (1.1.0)\n",
            "Requirement already satisfied: packaging in c:\\users\\cycin\\appdata\\roaming\\python\\python312\\site-packages (from webdriver-manager->-r requirements.txt (line 2)) (24.2)\n",
            "Requirement already satisfied: anyio<5,>=3.5.0 in c:\\users\\cycin\\appdata\\roaming\\python\\python312\\site-packages (from openai>=1.0.0->-r requirements.txt (line 3)) (4.9.0)\n",
            "Requirement already satisfied: distro<2,>=1.7.0 in c:\\users\\cycin\\appdata\\roaming\\python\\python312\\site-packages (from openai>=1.0.0->-r requirements.txt (line 3)) (1.9.0)\n",
            "Requirement already satisfied: httpx<1,>=0.23.0 in c:\\users\\cycin\\appdata\\roaming\\python\\python312\\site-packages (from openai>=1.0.0->-r requirements.txt (line 3)) (0.27.2)\n",
            "Requirement already satisfied: jiter<1,>=0.4.0 in c:\\users\\cycin\\appdata\\roaming\\python\\python312\\site-packages (from openai>=1.0.0->-r requirements.txt (line 3)) (0.9.0)\n",
            "Requirement already satisfied: pydantic<3,>=1.9.0 in c:\\users\\cycin\\appdata\\roaming\\python\\python312\\site-packages (from openai>=1.0.0->-r requirements.txt (line 3)) (2.11.4)\n",
            "Requirement already satisfied: sniffio in c:\\users\\cycin\\appdata\\roaming\\python\\python312\\site-packages (from openai>=1.0.0->-r requirements.txt (line 3)) (1.3.1)\n",
            "Requirement already satisfied: tqdm>4 in c:\\users\\cycin\\appdata\\roaming\\python\\python312\\site-packages (from openai>=1.0.0->-r requirements.txt (line 3)) (4.66.5)\n",
            "Requirement already satisfied: numpy>=1.26.0 in c:\\users\\cycin\\appdata\\roaming\\python\\python312\\site-packages (from pandas->-r requirements.txt (line 5)) (2.0.2)\n",
            "Requirement already satisfied: python-dateutil>=2.8.2 in c:\\users\\cycin\\appdata\\roaming\\python\\python312\\site-packages (from pandas->-r requirements.txt (line 5)) (2.9.0.post0)\n",
            "Requirement already satisfied: pytz>=2020.1 in c:\\users\\cycin\\appdata\\roaming\\python\\python312\\site-packages (from pandas->-r requirements.txt (line 5)) (2025.1)\n",
            "Requirement already satisfied: tzdata>=2022.7 in c:\\users\\cycin\\appdata\\roaming\\python\\python312\\site-packages (from pandas->-r requirements.txt (line 5)) (2025.1)\n",
            "Requirement already satisfied: idna>=2.8 in c:\\users\\cycin\\appdata\\roaming\\python\\python312\\site-packages (from anyio<5,>=3.5.0->openai>=1.0.0->-r requirements.txt (line 3)) (3.10)\n",
            "Requirement already satisfied: httpcore==1.* in c:\\users\\cycin\\appdata\\roaming\\python\\python312\\site-packages (from httpx<1,>=0.23.0->openai>=1.0.0->-r requirements.txt (line 3)) (1.0.8)\n",
            "Requirement already satisfied: h11<0.15,>=0.13 in c:\\users\\cycin\\appdata\\roaming\\python\\python312\\site-packages (from httpcore==1.*->httpx<1,>=0.23.0->openai>=1.0.0->-r requirements.txt (line 3)) (0.14.0)\n",
            "Requirement already satisfied: annotated-types>=0.6.0 in c:\\users\\cycin\\appdata\\roaming\\python\\python312\\site-packages (from pydantic<3,>=1.9.0->openai>=1.0.0->-r requirements.txt (line 3)) (0.7.0)\n",
            "Requirement already satisfied: pydantic-core==2.33.2 in c:\\users\\cycin\\appdata\\roaming\\python\\python312\\site-packages (from pydantic<3,>=1.9.0->openai>=1.0.0->-r requirements.txt (line 3)) (2.33.2)\n",
            "Requirement already satisfied: typing-inspection>=0.4.0 in c:\\users\\cycin\\appdata\\roaming\\python\\python312\\site-packages (from pydantic<3,>=1.9.0->openai>=1.0.0->-r requirements.txt (line 3)) (0.4.0)\n",
            "Requirement already satisfied: six>=1.5 in c:\\users\\cycin\\appdata\\roaming\\python\\python312\\site-packages (from python-dateutil>=2.8.2->pandas->-r requirements.txt (line 5)) (1.17.0)\n",
            "Requirement already satisfied: colorama in c:\\users\\cycin\\appdata\\roaming\\python\\python312\\site-packages (from tqdm>4->openai>=1.0.0->-r requirements.txt (line 3)) (0.4.6)\n",
            "Requirement already satisfied: attrs>=23.2.0 in c:\\users\\cycin\\appdata\\roaming\\python\\python312\\site-packages (from trio~=0.17->selenium>=4.27.1->-r requirements.txt (line 1)) (25.3.0)\n",
            "Requirement already satisfied: sortedcontainers in c:\\users\\cycin\\appdata\\roaming\\python\\python312\\site-packages (from trio~=0.17->selenium>=4.27.1->-r requirements.txt (line 1)) (2.4.0)\n",
            "Requirement already satisfied: outcome in c:\\users\\cycin\\appdata\\roaming\\python\\python312\\site-packages (from trio~=0.17->selenium>=4.27.1->-r requirements.txt (line 1)) (1.3.0.post0)\n",
            "Requirement already satisfied: cffi>=1.14 in c:\\users\\cycin\\appdata\\roaming\\python\\python312\\site-packages (from trio~=0.17->selenium>=4.27.1->-r requirements.txt (line 1)) (1.17.1)\n",
            "Requirement already satisfied: wsproto>=0.14 in c:\\users\\cycin\\appdata\\roaming\\python\\python312\\site-packages (from trio-websocket~=0.9->selenium>=4.27.1->-r requirements.txt (line 1)) (1.2.0)\n",
            "Requirement already satisfied: pysocks!=1.5.7,<2.0,>=1.5.6 in c:\\users\\cycin\\appdata\\roaming\\python\\python312\\site-packages (from urllib3[socks]<3,>=1.26->selenium>=4.27.1->-r requirements.txt (line 1)) (1.7.1)\n",
            "Requirement already satisfied: charset-normalizer<4,>=2 in c:\\users\\cycin\\appdata\\roaming\\python\\python312\\site-packages (from requests->webdriver-manager->-r requirements.txt (line 2)) (3.4.1)\n",
            "Requirement already satisfied: pycparser in c:\\users\\cycin\\appdata\\roaming\\python\\python312\\site-packages (from cffi>=1.14->trio~=0.17->selenium>=4.27.1->-r requirements.txt (line 1)) (2.22)\n"
          ]
        },
        {
          "name": "stderr",
          "output_type": "stream",
          "text": [
            "\n",
            "[notice] A new release of pip is available: 24.2 -> 25.1.1\n",
            "[notice] To update, run: python.exe -m pip install --upgrade pip\n"
          ]
        }
      ],
      "source": [
        "!pip install -r requirements.txt"
      ]
    },
    {
      "cell_type": "markdown",
      "metadata": {},
      "source": [
        "# 2. Test Scrapper\n",
        "You need to download a Firefox Explorer."
      ]
    },
    {
      "cell_type": "code",
      "execution_count": 3,
      "metadata": {},
      "outputs": [
        {
          "name": "stdout",
          "output_type": "stream",
          "text": [
            "C:\\Users\\cycin\\.wdm\\drivers\\geckodriver\\win64\\v0.36.0\\geckodriver.exe\n"
          ]
        }
      ],
      "source": [
        "from webdriver_manager.firefox import GeckoDriverManager\n",
        "\n",
        "# This will download and return the path of the Firefox driver. Then copy the address in the \"service =\" in  next code block\n",
        "print(GeckoDriverManager().install())"
      ]
    },
    {
      "cell_type": "code",
      "execution_count": 4,
      "metadata": {
        "colab": {
          "base_uri": "https://localhost:8080/"
        },
        "id": "_K2MWQHDoooO",
        "outputId": "e2741936-45f4-429f-eca9-100ca1cff4f8"
      },
      "outputs": [
        {
          "name": "stdout",
          "output_type": "stream",
          "text": [
            "Welcome to Python.org\n"
          ]
        }
      ],
      "source": [
        "from selenium import webdriver\n",
        "from selenium.webdriver.firefox.service import Service\n",
        "from selenium.webdriver.firefox.options import Options\n",
        "\n",
        "# Use Firefox in normal (non-headless) mode for debugging\n",
        "options = Options()\n",
        "# Do NOT use headless for now\n",
        "# options.add_argument(\"--headless\")\n",
        "\n",
        "# Manually specify geckodriver path\n",
        "service = Service(\"C:/Users/cycin/.wdm/drivers/geckodriver/win64/v0.36.0/geckodriver.exe\")\n",
        "\n",
        "# Start driver\n",
        "driver = webdriver.Firefox(service=service, options=options)\n",
        "\n",
        "# Add an implicit wait to ensure page loads before continuing\n",
        "driver.implicitly_wait(10)  # wait up to 10 seconds\n",
        "\n",
        "# Test\n",
        "driver.get(\"https://www.python.org\")\n",
        "print(driver.title)\n",
        "\n",
        "driver.quit()"
      ]
    },
    {
      "cell_type": "markdown",
      "metadata": {},
      "source": [
        "# 2. Scrap the raw post from a topic on bitcointalk\n",
        "Define the topic_id.\n",
        "e.g. https://bitcointalk.org/index.php?topic=203.0 the topic_id = 203"
      ]
    },
    {
      "cell_type": "code",
      "execution_count": 5,
      "metadata": {
        "colab": {
          "base_uri": "https://localhost:8080/"
        },
        "id": "Yx-A4zYbozLH",
        "outputId": "ebe0b39d-4fab-4e3a-9a28-5e2175fd8359"
      },
      "outputs": [
        {
          "name": "stdout",
          "output_type": "stream",
          "text": [
            "✅ Retrieved 21 posts.\n"
          ]
        }
      ],
      "source": [
        "from get_posts_from_topic import process_topic\n",
        "from selenium import webdriver\n",
        "from selenium.webdriver.chrome.service import Service\n",
        "from selenium.webdriver.chrome.options import Options\n",
        "from webdriver_manager.chrome import ChromeDriverManager\n",
        "\n",
        "chrome_options = Options()\n",
        "chrome_options.add_argument(\"--headless\")\n",
        "chrome_options.add_argument(\"--no-sandbox\")\n",
        "chrome_options.add_argument(\"--disable-dev-shm-usage\")\n",
        "\n",
        "driver = webdriver.Chrome(service=Service(ChromeDriverManager().install()), options=chrome_options)\n",
        "\n",
        "# change topic ID \n",
        "topic_id = 203\n",
        "posts = process_topic(topic= topic_id, driver=driver)\n",
        "# driver.quit()\n",
        "\n",
        "print(f\"✅ Retrieved {len(posts)} posts.\")\n"
      ]
    },
    {
      "cell_type": "code",
      "execution_count": 6,
      "metadata": {},
      "outputs": [
        {
          "name": "stdout",
          "output_type": "stream",
          "text": [
            "\n",
            "📝 Sample posts:\n",
            "\n",
            "Floor: 1\n",
            "User: Timo Y\n",
            "Date: 2010-06-23 10:29:37\n",
            "Content: Here is an idea how Bitcoin could be improved:\n",
            "\n",
            "In the current implementation, scarcity is created by setting up arbitrary computational problems whose sole purpose is to create scarcity. The computational problems are artificially created by the system, much like a fiat currency. There is no natural demand to solve those problems.\n",
            "\n",
            "This is macroeconomically suboptimal because a lot of CPU power is being \"wasted\" instead of being put to good use (opportunity cost). It would be bad for the environment too, if BC were ever to become a world currency.\n",
            "\n",
            "Why not use those CPU cycles to perform computations with real value? This could be done via some sort of grid computing infrastructure such as BOINC, except that it would be a marketplace instead of a volunteer grid.\n",
            "\n",
            "For example:\n",
            "A drug company wishing to model the structure of some protein could use Bitcoins to buy \"computing credits\". The computing credits can then be used to secure the right to define the data and algorithm of each computational chunk.  The CPUs of the BC users solve these chunks and send the results back to the drug company. As before, the BC user gets newly generated Bitcoins in return for computing each chunk. In addition, the user receives the Bitcoins paid by the drug company.\n",
            "\n",
            "This would have the benefit of backing BC with something more tangible than just the collective faith in the project. It would also generate lots of extra demand for BC.\n",
            "\n",
            "Any thoughts?\n",
            "----------------------------------------------------------------------------------------------------\n",
            "Floor: 2\n",
            "User: chaord\n",
            "Date: 2010-07-06 02:29:00\n",
            "Content: I completely agree.  My main hesitation with BitCoin at present, from an market-anarchist perspective is that BC lacks intrinsic value.  By this I mean simply that BC is a medium of exchange by design and by declaration, not through natural market selection.  Taking gold as an example, the market had already chosen and accepted gold as a medium of exchange long before governments got involved and \"endorsed\" it.\n",
            "\n",
            "What I'm wondering is if the BC concept would be better applied to a community like I2P?  In my opinion, what I2P is missing is an underlying agreeable cryptocurrency which it's nodes can earn by keeping the network online, and it's members can use as a form of payment.  If this were the case, BC would probably start having some intrinsic value within the I2P community which creates a positive feedback loop for I2P: more nodes pop up, stronger network, etc.  And next thing you know, a completely encrypted and anonymous internet can emerge in parallel to the existing one.  I think this would be incredible, especially being able to jump between the two.\n",
            "\n",
            "What do you guys think? I really don't know much about I2P, but I wonder if something like this is feasible?  It would be great to see non-geek types start migrating towards a true privacy protected internet, and perhaps the ability to earn something of value for keeping the network up would motivate them?\n",
            "----------------------------------------------------------------------------------------------------\n",
            "Floor: 3\n",
            "User: dwdollar\n",
            "Date: 2010-07-06 03:06:30\n",
            "Content: Nothing is stopping the I2P community from adopting it right now.  It'd be great if they did.\n",
            "\n",
            "I'm not a believer of intrinsic value though.  Not even for gold.\n",
            "----------------------------------------------------------------------------------------------------\n",
            "Floor: 5\n",
            "User: llama\n",
            "Date: 2010-07-06 18:30:51\n",
            "Content: AFAIK, there are no \"useful\" computational problems that have the properties necessary to be used as a proof-of-work. \n",
            "\n",
            "The hash function is used because it is irreversible, easily checkable, small in size, and probably some other things I'm forgetting.  Even if you could, for example, encode the transactions as a polypeptide (chain of amino acids), and then made folding the polypeptide into a protein the proof-of-work, such a proof-of-work could not be checked without redoing the entire computation.\n",
            "\n",
            "Even if you could come up with a suitable problem, due to the economics of BC you would never actually generate any additional value by using a \"useful\" problem.\n",
            "----------------------------------------------------------------------------------------------------\n",
            "Floor: 6\n",
            "User: Bitcoiner\n",
            "Date: 2010-07-07 14:50:51\n",
            "Content: It does seem kind of wasteful that bitcoin relies on the consumption of resources in order to achieve its properties as a store of value. Once all bitcoins have been generated, will it continue to consume a great deal of resources?\n",
            "\n",
            "I think that this could be one technical source of a downfall would it ever to become highly popular; what do you guys think?\n",
            "----------------------------------------------------------------------------------------------------\n"
          ]
        }
      ],
      "source": [
        "print(\"\\n📝 Sample posts:\\n\")\n",
        "\n",
        "for floor in sorted(posts.keys())[:5]:  # just show first 5 posts\n",
        "    post = posts[floor]\n",
        "    print(f\"Floor: {floor}\")\n",
        "    print(f\"User: {post['poster']}\")\n",
        "    print(f\"Date: {post['date']}\")\n",
        "    print(f\"Content: {post['post']}\")\n",
        "    print(\"-\" * 100)\n"
      ]
    },
    {
      "cell_type": "code",
      "execution_count": 7,
      "metadata": {},
      "outputs": [
        {
          "name": "stdout",
          "output_type": "stream",
          "text": [
            "✅ Saved 21 posts to raw_posts_topic203.json\n"
          ]
        }
      ],
      "source": [
        "import json\n",
        "\n",
        "# Save raw posts to JSON\n",
        "with open(f\"data/raw_posts_topic{topic_id}.json\", \"w\", encoding=\"utf-8\") as f:\n",
        "    json.dump(posts, f, ensure_ascii=False, indent=2, default=str)\n",
        "\n",
        "print(f\"✅ Saved {len(posts)} posts to raw_posts_topic{topic_id}.json\")"
      ]
    },
    {
      "cell_type": "markdown",
      "metadata": {},
      "source": [
        "# 3. Extract addresses from user profiles with regularization"
      ]
    },
    {
      "cell_type": "code",
      "execution_count": 9,
      "metadata": {},
      "outputs": [],
      "source": [
        "import json\n",
        "\n",
        "# Load the saved posts JSON file\n",
        "with open(f\"data/raw_posts_topic{topic_id}.json\", \"r\", encoding=\"utf-8\") as f:\n",
        "    posts = json.load(f)\n",
        "\n",
        "# Convert posts from dict to list for easier iteration\n",
        "posts_list = []\n",
        "\n",
        "for floor, post in posts.items():\n",
        "    posts_list.append({\n",
        "        \"floor\": floor,\n",
        "        \"username\": post[\"poster\"],\n",
        "        \"poster_id\": post[\"poster_id\"],  # ✅ Needed for profile lookup\n",
        "        \"post_date\": post[\"date\"],\n",
        "        \"post_content\": post[\"post\"]\n",
        "    })"
      ]
    },
    {
      "cell_type": "code",
      "execution_count": 10,
      "metadata": {},
      "outputs": [
        {
          "name": "stdout",
          "output_type": "stream",
          "text": [
            "✅ Found addresses in 6 posts.\n",
            "User ID: 271\n",
            "username: Timo Y\n",
            "Address: 1E8ydXZKFLG6zHdcZoRjRT4m4AYgYYjyAi\n",
            "----------------------------------------\n",
            "User ID: 143\n",
            "username: laszlo\n",
            "Address: 157fRrqAKrDyGHr1Bx3yDxeMv8Rh45aUet\n",
            "----------------------------------------\n",
            "User ID: 292\n",
            "username: BitLex\n",
            "Address: 1D8AAABEMVaH9AQU1js4ST5YmTvFf8hcyj\n",
            "----------------------------------------\n",
            "User ID: 269\n",
            "username: Bitcoiner\n",
            "Address: 13Cq8AmdrqewatRxEyU2xNuMvegbaLCvEe\n",
            "----------------------------------------\n",
            "User ID: 382\n",
            "username: Ground Loop\n",
            "Address: 1HrAmQk9EuH3Ak6ugsw3qi3g23DG6YUNPq\n",
            "----------------------------------------\n",
            "User ID: 413\n",
            "username: bg002h\n",
            "Address: 1GCDzqmX2Cf513E8NeThNHxiYEivU1Chhe\n",
            "----------------------------------------\n"
          ]
        }
      ],
      "source": [
        "from get_address_from_user import get_address_from_user\n",
        "\n",
        "# Store results here\n",
        "filtered_posts = []\n",
        "\n",
        "for post in posts_list:\n",
        "    user_id = int(post[\"poster_id\"])\n",
        "    addresses = get_address_from_user(driver, user_id)\n",
        "\n",
        "    if not addresses:\n",
        "        continue\n",
        "\n",
        "    for addr in addresses:\n",
        "        filtered_posts.append({\n",
        "            \"floor\": post[\"floor\"],\n",
        "            \"username\": post[\"username\"],\n",
        "            \"poster_id\": post[\"poster_id\"],\n",
        "            \"address\": addr,\n",
        "            \"post_content\": post[\"post_content\"]\n",
        "        })\n",
        "\n",
        "print(f\"✅ Found addresses in {len(filtered_posts)} posts.\")\n",
        "\n",
        "for post in filtered_posts:\n",
        "    print(f\"User ID: {post['poster_id']}\")\n",
        "    print(f\"username: {post['username']}\")\n",
        "    print(f\"Address: {post['address']}\")\n",
        "    print(\"-\" * 40)\n"
      ]
    },
    {
      "cell_type": "markdown",
      "metadata": {},
      "source": [
        "# 4. create raw post and profile for ChatGPT (old module)"
      ]
    },
    {
      "cell_type": "code",
      "execution_count": 13,
      "metadata": {},
      "outputs": [
        {
          "name": "stdout",
          "output_type": "stream",
          "text": [
            "✅ Saved formatted thread to BitcoinTalkThreads\\203.json\n"
          ]
        }
      ],
      "source": [
        "import json\n",
        "import os\n",
        "\n",
        "# Define input and output file paths\n",
        "input_path = f\"data/raw_posts_topic{topic_id}.json\"\n",
        "output_dir = \"BitcoinTalkThreads\"\n",
        "output_path = os.path.join(output_dir, f\"{topic_id}.json\")  # Saves as e.g. \"203.json\"\n",
        "\n",
        "# Create the output folder if it doesn't exist\n",
        "os.makedirs(output_dir, exist_ok=True)\n",
        "\n",
        "# Load the raw post data\n",
        "with open(input_path, \"r\", encoding=\"utf-8\") as f:\n",
        "    raw_posts = json.load(f)\n",
        "\n",
        "# Start constructing the output structure\n",
        "thread_json = {\n",
        "    \"thread_number\": topic_id,\n",
        "    \"title\": f\"Topic {topic_id}\",\n",
        "    \"thread_url\": f\"https://bitcointalk.org/index.php?topic={topic_id}\",\n",
        "    \"num_messages\": len(raw_posts)\n",
        "}\n",
        "\n",
        "# Add each post using numeric keys (\"0\", \"1\", etc.)\n",
        "for idx, (floor, post) in enumerate(raw_posts.items()):\n",
        "    thread_json[str(idx)] = {\n",
        "        \"poster\": post[\"poster\"],\n",
        "        \"poster_id\": post[\"poster_id\"],\n",
        "        \"date\": post[\"date\"],\n",
        "        \"message\": post[\"post\"]\n",
        "    }\n",
        "\n",
        "# Save the final converted thread to output\n",
        "with open(output_path, \"w\", encoding=\"utf-8\") as f:\n",
        "    json.dump(thread_json, f, indent=2, ensure_ascii=False)\n",
        "\n",
        "print(f\"✅ Saved formatted thread to {output_path}\")\n"
      ]
    },
    {
      "cell_type": "markdown",
      "metadata": {},
      "source": [
        "# 5. Run to merge raw json(raw post + raw profile) for ChatGPT and use Chatgpt to extract address (new model)\n",
        "Update your openai api key in yaml file:\n",
        "copy file example_conf.yaml.\n",
        "Change the file name to conf.yaml and update your openai api key in this file."
      ]
    },
    {
      "cell_type": "code",
      "execution_count": 14,
      "metadata": {},
      "outputs": [
        {
          "name": "stdout",
          "output_type": "stream",
          "text": [
            "✅ Merged file saved to data/merged_posts_with_profiles_topic203.json\n"
          ]
        }
      ],
      "source": [
        "from get_user_profile_raw import get_raw_profile_from_user\n",
        "import json\n",
        "\n",
        "with open(f\"data/raw_posts_topic{topic_id}.json\", \"r\", encoding=\"utf-8\") as f:\n",
        "    posts = json.load(f)\n",
        "\n",
        "poster_id_map = {}\n",
        "\n",
        "for msg_id, post in posts.items():\n",
        "    poster_id = post[\"poster_id\"]\n",
        "    if poster_id not in poster_id_map:\n",
        "        profile_info = get_raw_profile_from_user(driver, poster_id)\n",
        "        poster_id_map[poster_id] = profile_info\n",
        "\n",
        "for msg_id, post in posts.items():\n",
        "    poster_id = post[\"poster_id\"]\n",
        "    post[\"profile\"] = poster_id_map.get(poster_id, {\n",
        "        \"user_id\": poster_id,\n",
        "        \"url\": f\"https://bitcointalk.org/index.php?action=profile;u={poster_id}\",\n",
        "        \"raw_text\": \"\"\n",
        "    })\n",
        "\n",
        "# Save to data\n",
        "output_path = f\"data/merged_posts_with_profiles_topic{topic_id}.json\"\n",
        "with open(output_path, \"w\", encoding=\"utf-8\") as f:\n",
        "    json.dump(posts, f, ensure_ascii=False, indent=2)\n",
        "\n",
        "print(f\"✅ Merged file saved to {output_path}\")\n"
      ]
    },
    {
      "cell_type": "code",
      "execution_count": 22,
      "metadata": {},
      "outputs": [
        {
          "name": "stdout",
          "output_type": "stream",
          "text": [
            "Num threads w at least one address / transaction id: 0, num messages: 0\n",
            "✅ All GPT outputs saved to resps\\gpt_outputs_topic203_20250519_2136.json\n",
            "✅ Matching CSV exported to resps\\gpt_outputs_topic203_20250519_2136.csv\n"
          ]
        },
        {
          "name": "stderr",
          "output_type": "stream",
          "text": [
            "\n",
            "  0%|          | 0/21 [00:00<?, ?it/s]\n",
            "  5%|▍         | 1/21 [00:02<00:53,  2.67s/it]\n",
            " 10%|▉         | 2/21 [00:03<00:24,  1.31s/it]\n",
            " 14%|█▍        | 3/21 [00:03<00:15,  1.16it/s]\n",
            " 19%|█▉        | 4/21 [00:04<00:19,  1.12s/it]\n",
            " 24%|██▍       | 5/21 [00:06<00:20,  1.25s/it]\n",
            " 29%|██▊       | 6/21 [00:06<00:13,  1.07it/s]\n",
            " 33%|███▎      | 7/21 [00:06<00:10,  1.38it/s]\n",
            " 38%|███▊      | 8/21 [00:07<00:08,  1.59it/s]\n",
            " 43%|████▎     | 9/21 [00:07<00:06,  1.79it/s]\n",
            " 48%|████▊     | 10/21 [00:08<00:05,  2.05it/s]\n",
            " 52%|█████▏    | 11/21 [00:08<00:04,  2.02it/s]\n",
            " 57%|█████▋    | 12/21 [00:10<00:08,  1.11it/s]\n",
            " 62%|██████▏   | 13/21 [00:10<00:05,  1.36it/s]\n",
            " 67%|██████▋   | 14/21 [00:12<00:08,  1.16s/it]\n",
            " 71%|███████▏  | 15/21 [00:14<00:08,  1.35s/it]\n",
            " 76%|███████▌  | 16/21 [00:15<00:05,  1.07s/it]\n",
            " 81%|████████  | 17/21 [00:15<00:03,  1.15it/s]\n",
            " 86%|████████▌ | 18/21 [00:15<00:02,  1.43it/s]\n",
            " 90%|█████████ | 19/21 [00:16<00:01,  1.66it/s]\n",
            " 95%|█████████▌| 20/21 [00:16<00:00,  1.78it/s]\n",
            "100%|██████████| 21/21 [00:17<00:00,  1.91it/s]\n",
            "100%|██████████| 21/21 [00:17<00:00,  1.22it/s]\n"
          ]
        }
      ],
      "source": [
        "!python extract_address_with_chatgpt.py --topic_id=203"
      ]
    },
    {
      "cell_type": "code",
      "execution_count": 20,
      "metadata": {},
      "outputs": [
        {
          "name": "stdout",
          "output_type": "stream",
          "text": [
            "Defaulting to user installation because normal site-packages is not writeable\n",
            "Requirement already satisfied: openai in c:\\users\\cycin\\appdata\\roaming\\python\\python312\\site-packages (1.79.0)\n",
            "Requirement already satisfied: anyio<5,>=3.5.0 in c:\\users\\cycin\\appdata\\roaming\\python\\python312\\site-packages (from openai) (4.9.0)\n",
            "Requirement already satisfied: distro<2,>=1.7.0 in c:\\users\\cycin\\appdata\\roaming\\python\\python312\\site-packages (from openai) (1.9.0)\n",
            "Requirement already satisfied: httpx<1,>=0.23.0 in c:\\users\\cycin\\appdata\\roaming\\python\\python312\\site-packages (from openai) (0.27.2)\n",
            "Requirement already satisfied: jiter<1,>=0.4.0 in c:\\users\\cycin\\appdata\\roaming\\python\\python312\\site-packages (from openai) (0.9.0)\n",
            "Requirement already satisfied: pydantic<3,>=1.9.0 in c:\\users\\cycin\\appdata\\roaming\\python\\python312\\site-packages (from openai) (2.11.4)\n",
            "Requirement already satisfied: sniffio in c:\\users\\cycin\\appdata\\roaming\\python\\python312\\site-packages (from openai) (1.3.1)\n",
            "Requirement already satisfied: tqdm>4 in c:\\users\\cycin\\appdata\\roaming\\python\\python312\\site-packages (from openai) (4.66.5)\n",
            "Requirement already satisfied: typing-extensions<5,>=4.11 in c:\\users\\cycin\\appdata\\roaming\\python\\python312\\site-packages (from openai) (4.13.2)\n",
            "Requirement already satisfied: idna>=2.8 in c:\\users\\cycin\\appdata\\roaming\\python\\python312\\site-packages (from anyio<5,>=3.5.0->openai) (3.10)\n",
            "Requirement already satisfied: certifi in c:\\users\\cycin\\appdata\\roaming\\python\\python312\\site-packages (from httpx<1,>=0.23.0->openai) (2025.1.31)\n",
            "Requirement already satisfied: httpcore==1.* in c:\\users\\cycin\\appdata\\roaming\\python\\python312\\site-packages (from httpx<1,>=0.23.0->openai) (1.0.8)\n",
            "Requirement already satisfied: h11<0.15,>=0.13 in c:\\users\\cycin\\appdata\\roaming\\python\\python312\\site-packages (from httpcore==1.*->httpx<1,>=0.23.0->openai) (0.14.0)\n",
            "Requirement already satisfied: annotated-types>=0.6.0 in c:\\users\\cycin\\appdata\\roaming\\python\\python312\\site-packages (from pydantic<3,>=1.9.0->openai) (0.7.0)\n",
            "Requirement already satisfied: pydantic-core==2.33.2 in c:\\users\\cycin\\appdata\\roaming\\python\\python312\\site-packages (from pydantic<3,>=1.9.0->openai) (2.33.2)\n",
            "Requirement already satisfied: typing-inspection>=0.4.0 in c:\\users\\cycin\\appdata\\roaming\\python\\python312\\site-packages (from pydantic<3,>=1.9.0->openai) (0.4.0)\n",
            "Requirement already satisfied: colorama in c:\\users\\cycin\\appdata\\roaming\\python\\python312\\site-packages (from tqdm>4->openai) (0.4.6)\n",
            "Note: you may need to restart the kernel to use updated packages.\n"
          ]
        },
        {
          "name": "stderr",
          "output_type": "stream",
          "text": [
            "\n",
            "[notice] A new release of pip is available: 24.2 -> 25.1.1\n",
            "[notice] To update, run: python.exe -m pip install --upgrade pip\n"
          ]
        }
      ],
      "source": [
        "pip install --upgrade openai"
      ]
    }
  ],
  "metadata": {
    "colab": {
      "provenance": []
    },
    "kernelspec": {
      "display_name": "Python 3",
      "name": "python3"
    },
    "language_info": {
      "codemirror_mode": {
        "name": "ipython",
        "version": 3
      },
      "file_extension": ".py",
      "mimetype": "text/x-python",
      "name": "python",
      "nbconvert_exporter": "python",
      "pygments_lexer": "ipython3",
      "version": "3.12.6"
    }
  },
  "nbformat": 4,
  "nbformat_minor": 0
}
